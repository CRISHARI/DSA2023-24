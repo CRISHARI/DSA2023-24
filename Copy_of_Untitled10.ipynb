{
  "cells": [
    {
      "cell_type": "code",
      "execution_count": null,
      "metadata": {
        "colab": {
          "base_uri": "https://localhost:8080/"
        },
        "id": "bq0szmpYwyde",
        "outputId": "eb92ca91-5f53-4fc7-f8de-8a581b204f38"
      },
      "outputs": [
        {
          "name": "stdout",
          "output_type": "stream",
          "text": [
            "enter the radius of the circle: 3\n",
            "area of the circle is 28.274333882308138\n"
          ]
        }
      ],
      "source": [
        "import math\n",
        "#accepting input from the user\n",
        "radius=float(input(\"enter the radius of the circle: \"))\n",
        "#computing the area\n",
        "area=math.pi*(radius)**2\n",
        "#displaying the result\n",
        "print(f\"area of the circle is {area}\")"
      ]
    },
    {
      "cell_type": "code",
      "execution_count": null,
      "metadata": {
        "colab": {
          "base_uri": "https://localhost:8080/"
        },
        "id": "HvJpQkWSx4Nf",
        "outputId": "7d5620fb-31d6-4617-9828-0c40f36b5274"
      },
      "outputs": [
        {
          "name": "stdout",
          "output_type": "stream",
          "text": [
            "enter the name: Anisha\n",
            "enter the roll_number: 21\n",
            "enter the mark: 78\n",
            "Name: Anisha\n",
            "Roll_number: 21\n",
            "Mark: 78\n"
          ]
        }
      ],
      "source": [
        "#accepting input from the user\n",
        "name=input(\"enter the name: \")\n",
        "roll_number=input(\"enter the roll_number: \")\n",
        "mark=input(\"enter the mark: \")\n",
        "#displayig the resut\n",
        "print(\"Name:\",name)\n",
        "print(\"Roll_number:\",roll_number)\n",
        "print(\"Mark:\",mark)"
      ]
    },
    {
      "cell_type": "code",
      "execution_count": null,
      "metadata": {
        "colab": {
          "base_uri": "https://localhost:8080/"
        },
        "id": "W7o2gCbO7w3X",
        "outputId": "4322db69-730e-4ce1-c647-562fa5def319"
      },
      "outputs": [
        {
          "output_type": "stream",
          "name": "stdout",
          "text": [
            "47 is the largest number\n"
          ]
        }
      ],
      "source": [
        "#accepting input from user\n",
        "numbers=[12,3,47,10]\n",
        "#find the largest number\n",
        "largest=numbers[0]\n",
        "for num in numbers:\n",
        "        if num > largest:\n",
        "            largest = num\n",
        "\n",
        "print(f\"{largest} is the largest number\")"
      ]
    },
    {
      "cell_type": "code",
      "source": [
        "previous_number = 0  # Initialize the previous number as 0\n",
        "\n",
        "for current_number in range(1, 11):  # Iterating through the range 1 to 10\n",
        "    current_sum = current_number + previous_number\n",
        "    print(f\"Current Number {current_number} Previous Number {previous_number} Sum: {current_sum}\")\n",
        "    previous_number = current_number  # Update the previous number for the next iteration\n"
      ],
      "metadata": {
        "colab": {
          "base_uri": "https://localhost:8080/"
        },
        "id": "OPgG0NNMEWFN",
        "outputId": "0027fcef-9b21-4852-d191-a52d3c0854f4"
      },
      "execution_count": null,
      "outputs": [
        {
          "output_type": "stream",
          "name": "stdout",
          "text": [
            "Current Number 1 Previous Number 0 Sum: 1\n",
            "Current Number 2 Previous Number 1 Sum: 3\n",
            "Current Number 3 Previous Number 2 Sum: 5\n",
            "Current Number 4 Previous Number 3 Sum: 7\n",
            "Current Number 5 Previous Number 4 Sum: 9\n",
            "Current Number 6 Previous Number 5 Sum: 11\n",
            "Current Number 7 Previous Number 6 Sum: 13\n",
            "Current Number 8 Previous Number 7 Sum: 15\n",
            "Current Number 9 Previous Number 8 Sum: 17\n",
            "Current Number 10 Previous Number 9 Sum: 19\n"
          ]
        }
      ]
    },
    {
      "cell_type": "code",
      "source": [
        "# List of numbers\n",
        "numbers = [10, 20, 33, 46, 55]\n",
        "\n",
        "# Iterate through the numbers and print those divisible by 5\n",
        "for num in numbers:\n",
        "    if num % 5 == 0:\n",
        "        print(num, end=\", \")\n"
      ],
      "metadata": {
        "colab": {
          "base_uri": "https://localhost:8080/"
        },
        "id": "V-dBngENEs3T",
        "outputId": "e73cbd7d-a8e5-47b6-dda1-4f6dcde0c4e6"
      },
      "execution_count": null,
      "outputs": [
        {
          "output_type": "stream",
          "name": "stdout",
          "text": [
            "10, 20, 55, "
          ]
        }
      ]
    },
    {
      "cell_type": "code",
      "source": [
        "for i in range(1, 5):\n",
        "    print('*' * i)\n"
      ],
      "metadata": {
        "colab": {
          "base_uri": "https://localhost:8080/"
        },
        "id": "HT-mg09fEvkg",
        "outputId": "1789e97d-5536-4904-fb99-319c2db97cfb"
      },
      "execution_count": null,
      "outputs": [
        {
          "output_type": "stream",
          "name": "stdout",
          "text": [
            "*\n",
            "**\n",
            "***\n",
            "****\n"
          ]
        }
      ]
    },
    {
      "cell_type": "code",
      "source": [
        "# Input three numbers\n",
        "num1 = int(input(\"Enter the first number: \"))\n",
        "num2 = int(input(\"Enter the second number: \"))\n",
        "num3 = int(input(\"Enter the third number: \"))\n",
        "\n",
        "# Find the maximum using the max() function\n",
        "maximum = max(num1,num2,num3)\n",
        "#display the maximum\n",
        "print(\"The maximum of the three numbers is:\", maximum)"
      ],
      "metadata": {
        "colab": {
          "base_uri": "https://localhost:8080/"
        },
        "id": "q1VZ6mthFqRV",
        "outputId": "2bcc1714-fd4c-4d57-d999-66d4610f04d6"
      },
      "execution_count": null,
      "outputs": [
        {
          "output_type": "stream",
          "name": "stdout",
          "text": [
            "Enter the first number: 90\n",
            "Enter the second number: 99\n",
            "Enter the third number: 999\n",
            "The maximum of the three numbers is: 999\n"
          ]
        }
      ]
    },
    {
      "cell_type": "code",
      "source": [
        "# Upper half of the pattern\n",
        "for i in range(1, 6):\n",
        "    print('*' * i)\n",
        "\n",
        "# Lower half of the pattern\n",
        "for i in range(4, 0, -1):\n",
        "    print('*' * i)\n"
      ],
      "metadata": {
        "colab": {
          "base_uri": "https://localhost:8080/"
        },
        "id": "gn5XeWW-GpnX",
        "outputId": "98bf7a9a-8b81-46f2-cfde-1592cd5c66e0"
      },
      "execution_count": null,
      "outputs": [
        {
          "output_type": "stream",
          "name": "stdout",
          "text": [
            "*\n",
            "**\n",
            "***\n",
            "****\n",
            "*****\n",
            "****\n",
            "***\n",
            "**\n",
            "*\n"
          ]
        }
      ]
    }
  ],
  "metadata": {
    "colab": {
      "provenance": []
    },
    "kernelspec": {
      "display_name": "Python 3",
      "name": "python3"
    },
    "language_info": {
      "name": "python"
    }
  },
  "nbformat": 4,
  "nbformat_minor": 0
}